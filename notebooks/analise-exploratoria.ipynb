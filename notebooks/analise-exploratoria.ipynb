{
 "cells": [
  {
   "cell_type": "markdown",
   "metadata": {},
   "source": [
    "# Cognitivo.ai\n",
    "## Teste Desenvolvedor - Back End\n",
    "### Rafael Alves Ribeiro - rafael.alves.ribeiro@gmail.com"
   ]
  },
  {
   "cell_type": "markdown",
   "metadata": {
    "ExecuteTime": {
     "end_time": "2019-04-05T02:08:57.480585Z",
     "start_time": "2019-04-05T02:08:57.468087Z"
    }
   },
   "source": [
    "## Cenário\n",
    "<p style=\"text-align: justify;\">Uma empresa que fornece aplicativos de música e livros, precisa acompanhar regularmente a evolução das métricas de aplicativos de música disponíveis na Apple Store. Hoje, para que esse acompanhamento seja feito, um profissional precisa diariamente realizar a coleta desses dados atualizados, realizar a transformação desses dados. Atualmente a empresa não dispõe de nenhuma ferramenta que faça esse trabalho de forma automatizada. Além disso, esse profissional está envolvido em diversas outras atividades, fazendo com que, muitas vezes, esses relatórios deixem de ser enviados.</p>"
   ]
  },
  {
   "cell_type": "markdown",
   "metadata": {
    "ExecuteTime": {
     "end_time": "2019-04-05T02:08:57.480585Z",
     "start_time": "2019-04-05T02:08:57.468087Z"
    }
   },
   "source": [
    "## Instruções\n",
    "<p style=\"text-align: justify;\">Utilizando a linguagem Python, acesse o arquivo AppleStore.csv que terá os seguintes dados disponíveis:\n",
    "Dados disponíveis ​ id = Identificação do App track_name = Nome size_bytes = Tamanho em Bytes currency = Moeda price = Valor na Apple Store rating_count_tot = Qtde de Avaliaçõesrating_count_ver = Qtde de Avaliações última versão user_rating = Avaliação Média user_rating_ver = Avaliação Média da última versão ver = Última Versão cont_rating = Classificação Indicativa prime_genre = Gênero do App</p>"
   ]
  },
  {
   "cell_type": "code",
   "execution_count": null,
   "metadata": {
    "ExecuteTime": {
     "end_time": "2019-04-09T15:08:23.497325Z",
     "start_time": "2019-04-09T15:08:22.418253Z"
    }
   },
   "outputs": [],
   "source": [
    "%matplotlib inline\n",
    "\n",
    "import datetime\n",
    "import json\n",
    "import os\n",
    "import sys\n",
    "import time\n",
    "\n",
    "import pandas as pd\n",
    "from sqlalchemy import create_engine\n",
    "import tweepy\n",
    "from tqdm import tqdm, tqdm_notebook\n",
    "\n",
    "sys.path.append(\"..\")"
   ]
  },
  {
   "cell_type": "code",
   "execution_count": null,
   "metadata": {
    "ExecuteTime": {
     "end_time": "2019-04-09T15:08:23.569025Z",
     "start_time": "2019-04-09T15:08:23.500561Z"
    }
   },
   "outputs": [],
   "source": [
    "from src import db, twitter, utils"
   ]
  },
  {
   "cell_type": "markdown",
   "metadata": {},
   "source": [
    "### Carregamento dos dados"
   ]
  },
  {
   "cell_type": "code",
   "execution_count": null,
   "metadata": {
    "ExecuteTime": {
     "end_time": "2019-04-09T15:08:23.925959Z",
     "start_time": "2019-04-09T15:08:23.571781Z"
    }
   },
   "outputs": [],
   "source": [
    "CSV_FILE = \"../dados/input/AppleStore.csv\"\n",
    "apple_store = pd.read_csv(CSV_FILE)\n",
    "apple_store.drop(\"Unnamed: 0\", axis=1, inplace=True)\n",
    "apple_store.head()"
   ]
  },
  {
   "cell_type": "markdown",
   "metadata": {
    "ExecuteTime": {
     "end_time": "2019-04-05T02:08:57.480585Z",
     "start_time": "2019-04-05T02:08:57.468087Z"
    }
   },
   "source": [
    "<p style=\"text-align: justify;\">Para isso, é preciso extrair os dados relativos a Aplicações “Apps”, do gênero News. Já para a Aplicação da categoria News, que tiver a maior quantidade de avaliações."
   ]
  },
  {
   "cell_type": "code",
   "execution_count": null,
   "metadata": {
    "ExecuteTime": {
     "end_time": "2019-04-09T15:08:24.351104Z",
     "start_time": "2019-04-09T15:08:23.930094Z"
    }
   },
   "outputs": [],
   "source": [
    "news_top = apple_store.query('prime_genre == \"News\"').nlargest(1, \"rating_count_tot\")\n",
    "print(\n",
    "    f\"Aplicação da categoria News com maior quantidade de avaliações: {news_top.track_name.iloc[0]}\"\n",
    ")"
   ]
  },
  {
   "cell_type": "markdown",
   "metadata": {
    "ExecuteTime": {
     "end_time": "2019-04-05T02:08:57.480585Z",
     "start_time": "2019-04-05T02:08:57.468087Z"
    }
   },
   "source": [
    "<p style=\"text-align: justify;\">Utilizar a API dessa Aplicação para identificar quais são as 10 Aplicações do gênero Music e Book que possuem o maior número de citações.<p>"
   ]
  },
  {
   "cell_type": "markdown",
   "metadata": {},
   "source": [
    "### Seleciona os apps dos gêneros Music e Book"
   ]
  },
  {
   "cell_type": "markdown",
   "metadata": {},
   "source": [
    "* Criamos os datasets com os públicos Music e Book"
   ]
  },
  {
   "cell_type": "code",
   "execution_count": null,
   "metadata": {
    "ExecuteTime": {
     "end_time": "2019-04-09T15:08:24.382765Z",
     "start_time": "2019-04-09T15:08:24.362966Z"
    }
   },
   "outputs": [],
   "source": [
    "music_genre = apple_store.query('prime_genre == \"Music\"').reset_index(drop=True)\n",
    "book_genre = apple_store.query('prime_genre == \"Book\"').reset_index(drop=True)\n",
    "print(f\"Music Apps: {len(music_genre)}\")\n",
    "print(f\"Book Apps: {len(book_genre)}\")"
   ]
  },
  {
   "cell_type": "markdown",
   "metadata": {},
   "source": [
    "* Criamos o texto da query que será utilizado para pesquisar a API"
   ]
  },
  {
   "cell_type": "code",
   "execution_count": null,
   "metadata": {
    "ExecuteTime": {
     "end_time": "2019-04-09T15:08:24.513585Z",
     "start_time": "2019-04-09T15:08:24.386997Z"
    }
   },
   "outputs": [],
   "source": [
    "book_genre[\"api_query\"] = book_genre.track_name.map(utils.quote)\n",
    "book_genre[[\"track_name\", \"api_query\"]].head()"
   ]
  },
  {
   "cell_type": "code",
   "execution_count": null,
   "metadata": {
    "ExecuteTime": {
     "end_time": "2019-04-09T15:08:24.605651Z",
     "start_time": "2019-04-09T15:08:24.519704Z"
    },
    "scrolled": true
   },
   "outputs": [],
   "source": [
    "music_genre[\"api_query\"] = music_genre.track_name.map(utils.quote)\n",
    "music_genre[[\"track_name\", \"api_query\"]].head()"
   ]
  },
  {
   "cell_type": "markdown",
   "metadata": {},
   "source": [
    "### Busca as citações na API Twitter"
   ]
  },
  {
   "cell_type": "code",
   "execution_count": null,
   "metadata": {
    "ExecuteTime": {
     "end_time": "2019-04-09T15:08:26.155053Z",
     "start_time": "2019-04-09T15:08:24.609460Z"
    },
    "scrolled": true
   },
   "outputs": [],
   "source": [
    "credentials = utils.load_credentials(\"../credentials.json\")\n",
    "api_credentials = credentials[\"twitter\"]\n",
    "\n",
    "counter = twitter.CitationsCounter(\n",
    "    api_credentials[\"consumer_key\"], api_credentials[\"consumer_secret\"]\n",
    ")\n",
    "\n",
    "print(\"Rate limit:\", counter.remaining_rate_limit)\n",
    "print(\"Renew time:\", counter.rate_limit_renew)"
   ]
  },
  {
   "cell_type": "code",
   "execution_count": null,
   "metadata": {
    "ExecuteTime": {
     "end_time": "2019-04-09T15:08:26.168938Z",
     "start_time": "2019-04-09T15:08:26.162975Z"
    }
   },
   "outputs": [],
   "source": [
    "tqdm.pandas(tqdm_notebook)  # adiciona barra de progresso ao map do Pandas"
   ]
  },
  {
   "cell_type": "code",
   "execution_count": null,
   "metadata": {
    "ExecuteTime": {
     "end_time": "2019-04-09T15:09:28.881032Z",
     "start_time": "2019-04-09T15:08:26.173545Z"
    }
   },
   "outputs": [],
   "source": [
    "book_genre[\"n_citacoes\"] = book_genre.api_query.progress_map(counter.count_citations)"
   ]
  },
  {
   "cell_type": "code",
   "execution_count": null,
   "metadata": {
    "ExecuteTime": {
     "end_time": "2019-04-09T15:10:30.955761Z",
     "start_time": "2019-04-09T15:09:28.885018Z"
    }
   },
   "outputs": [],
   "source": [
    "music_genre[\"n_citacoes\"] = music_genre.api_query.progress_map(counter.count_citations)"
   ]
  },
  {
   "cell_type": "markdown",
   "metadata": {},
   "source": [
    "### Prepara os dados para armazenamento"
   ]
  },
  {
   "cell_type": "code",
   "execution_count": null,
   "metadata": {
    "ExecuteTime": {
     "end_time": "2019-04-09T15:12:22.496855Z",
     "start_time": "2019-04-09T15:12:22.462346Z"
    }
   },
   "outputs": [],
   "source": [
    "COLS = [\"id\", \"track_name\", \"n_citacoes\", \"size_bytes\", \"price\", \"prime_genre\"]\n",
    "top10_book = book_genre.nlargest(10, \"n_citacoes\")\n",
    "top10_book = top10_book[COLS].reset_index(drop=True)\n",
    "top10_book"
   ]
  },
  {
   "cell_type": "code",
   "execution_count": null,
   "metadata": {
    "ExecuteTime": {
     "end_time": "2019-04-09T15:12:25.863573Z",
     "start_time": "2019-04-09T15:12:25.459137Z"
    }
   },
   "outputs": [],
   "source": [
    "COLS = [\"id\", \"track_name\", \"n_citacoes\", \"size_bytes\", \"price\", \"prime_genre\"]\n",
    "top10_music = music_genre.nlargest(10, \"n_citacoes\")\n",
    "top10_music = top10_music[COLS].reset_index(drop=True)\n",
    "top10_music.head(10)"
   ]
  },
  {
   "cell_type": "code",
   "execution_count": null,
   "metadata": {
    "ExecuteTime": {
     "end_time": "2019-04-09T15:12:40.966814Z",
     "start_time": "2019-04-09T15:12:40.951173Z"
    }
   },
   "outputs": [],
   "source": [
    "dataset = pd.concat([top10_book, top10_music])"
   ]
  },
  {
   "cell_type": "markdown",
   "metadata": {},
   "source": [
    "### Armazena no formato .csv"
   ]
  },
  {
   "cell_type": "code",
   "execution_count": null,
   "metadata": {
    "ExecuteTime": {
     "end_time": "2019-04-09T15:12:35.898331Z",
     "start_time": "2019-04-09T15:12:35.880236Z"
    }
   },
   "outputs": [],
   "source": [
    "outfile = f\"citacoes_music_book_{datetime.date.today()}.csv\"\n",
    "dataset.to_csv(os.path.join(\"../dados/output\", outfile), index=False)"
   ]
  },
  {
   "cell_type": "markdown",
   "metadata": {},
   "source": [
    "Armazena os dados do arquivo criado no passo anterior em uma base de dados PostgreSQL criada na AWS RDS."
   ]
  },
  {
   "cell_type": "markdown",
   "metadata": {},
   "source": [
    "### Armazena em banco de dados (AWS RDS - Postgresql)"
   ]
  },
  {
   "cell_type": "code",
   "execution_count": null,
   "metadata": {
    "ExecuteTime": {
     "end_time": "2019-04-09T15:10:30.969356Z",
     "start_time": "2019-04-09T15:08:22.353Z"
    }
   },
   "outputs": [],
   "source": [
    "db_credentials = credentials[\"db\"]\n",
    "db.upload_data_to_db(dataset, db_credentials[\"user\"], db_credentials[\"password\"])"
   ]
  },
  {
   "cell_type": "markdown",
   "metadata": {},
   "source": [
    "### Disponibiliza os dados em formato JSON"
   ]
  },
  {
   "cell_type": "markdown",
   "metadata": {},
   "source": [
    "Para acesso aos dados em formato JSON, criamos um app no Heroku que busca as informações no banco de dados hospedado na AWS e retorna em formato JSON:\n",
    "\n",
    "Repositório: https://github.com/rafpyprog/topmobileapps\n",
    "\n",
    "\n",
    "Aplicação: https://topmobileapps.herokuapp.com/"
   ]
  }
 ],
 "metadata": {
  "kernelspec": {
   "display_name": "Python 3",
   "language": "python",
   "name": "python3"
  },
  "language_info": {
   "codemirror_mode": {
    "name": "ipython",
    "version": 3
   },
   "file_extension": ".py",
   "mimetype": "text/x-python",
   "name": "python",
   "nbconvert_exporter": "python",
   "pygments_lexer": "ipython3",
   "version": "3.6.7"
  }
 },
 "nbformat": 4,
 "nbformat_minor": 2
}
